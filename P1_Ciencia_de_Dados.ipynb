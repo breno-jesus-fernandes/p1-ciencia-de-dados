{
  "nbformat": 4,
  "nbformat_minor": 0,
  "metadata": {
    "colab": {
      "provenance": [],
      "authorship_tag": "ABX9TyPgu6IXPXqv5ICGpjAp9YgR",
      "include_colab_link": true
    },
    "kernelspec": {
      "name": "python3",
      "display_name": "Python 3"
    },
    "language_info": {
      "name": "python"
    }
  },
  "cells": [
    {
      "cell_type": "markdown",
      "metadata": {
        "id": "view-in-github",
        "colab_type": "text"
      },
      "source": [
        "<a href=\"https://colab.research.google.com/github/breno-jesus-fernandes/p1-ciencia-de-dados/blob/main/P1_Ciencia_de_Dados.ipynb\" target=\"_parent\"><img src=\"https://colab.research.google.com/assets/colab-badge.svg\" alt=\"Open In Colab\"/></a>"
      ]
    },
    {
      "cell_type": "markdown",
      "source": [
        "- Universidade Prebeteriana Mackenzie\n",
        "- Faculdade de Informatica e Computacao\n",
        "- Aluno: Breno de Jesus Fernandes\n",
        "- TIA: 41890590"
      ],
      "metadata": {
        "id": "QFC5H0odTrGT"
      }
    },
    {
      "cell_type": "markdown",
      "source": [
        "# 1 - Problema"
      ],
      "metadata": {
        "id": "u_mB91RiOmsZ"
      }
    },
    {
      "cell_type": "markdown",
      "source": [
        "## 1.1 - Descricao do Problema pelo professor"
      ],
      "metadata": {
        "id": "LTh3APAdTNfV"
      }
    },
    {
      "cell_type": "markdown",
      "source": [
        "- Peça a um comprador de imóvel residencial que descreva a casa dos seus sonhos e ele provavelmente não começará com a altura do teto do porão ou com a proximidade de uma ferrovia leste-oeste. Mas o conjunto de dados desta competição de playground prova que as negociações de preços influenciam muito mais do que o número de quartos ou uma cerca branca.\n",
        "\n",
        "- Com 79 variáveis ​​explicativas que descrevem (quase) todos os aspectos das casas residenciais em Ames, Iowa, esta competição desafia você a prever o preço final de cada casa."
      ],
      "metadata": {
        "id": "y9tTDF2zQR2_"
      }
    },
    {
      "cell_type": "markdown",
      "source": [
        "- O conjunto de dados Ames Housing foi compilado por Dean De Cock para uso no ensino de ciência de dados. É uma alternativa incrível para cientistas de dados que procuram uma versão modernizada e expandida do frequentemente citado conjunto de dados Boston Housing.\n",
        "\n"
      ],
      "metadata": {
        "id": "ES26BcUkS8xw"
      }
    },
    {
      "cell_type": "markdown",
      "source": [
        "- Desafio original postado no Kaggle (https://www.kaggle.com/competitions/house-prices-advanced-regression-techniques/overview). Acesse o link para baixar o conjunto de dados e executar o projeto(https://www.kaggle.com/competitions/house-prices-advanced-regression-techniques/data)."
      ],
      "metadata": {
        "id": "gYOLDyaQSuhI"
      }
    },
    {
      "cell_type": "markdown",
      "source": [
        "- Objetivos\n",
        "\n",
        "É sua função prever os preços de venda de cada casa. Para cada ID no conjunto de teste, você deve prever o valor da variável SalePrice. O arquivo de saída estar no formato de exemplo:\n",
        "\n",
        "Id,SalePrice\n",
        "1461,169000.1\n",
        "1462,187724.1233\n",
        "1463,175221\n",
        "\n",
        "- Métrica\n",
        "\n",
        "As submissões são avaliadas em Root-Mean-Squared-Error (RMSE) entre o logaritmo do valor previsto e o logaritmo do preço de venda observado. (Fazer registros significa que erros na previsão de casas caras e casas baratas afetarão igualmente o resultado.) O cálculo da métrica de performance do seu modelo vale 15% da nota da atividade"
      ],
      "metadata": {
        "id": "HVvLnPJTUHvh"
      }
    },
    {
      "cell_type": "markdown",
      "source": [
        "## 1.2 - Intepretacao do Problema pelo aluno e hipotese de solucao"
      ],
      "metadata": {
        "id": "bm4c0jHiTTuX"
      }
    },
    {
      "cell_type": "markdown",
      "source": [
        "- Realizar processo de ciencia de dados no dataset para resolver o problema de previsao utilizando a metrica RMSE como parametro de sucesso do modelo."
      ],
      "metadata": {
        "id": "k70EnWW7UNol"
      }
    },
    {
      "cell_type": "markdown",
      "source": [
        "# 2 - Solucao do Problema"
      ],
      "metadata": {
        "id": "aaZq-VxJOrmF"
      }
    },
    {
      "cell_type": "markdown",
      "source": [
        "## 2.1 - Analise Exploratoria"
      ],
      "metadata": {
        "id": "GZhCJ0PKPOIP"
      }
    },
    {
      "cell_type": "markdown",
      "source": [
        "## 2.2 - Feature Enginner"
      ],
      "metadata": {
        "id": "9d0r3uUqRvJj"
      }
    },
    {
      "cell_type": "markdown",
      "source": [
        "## 2.3 - Divisao de conjunto de treino e teste"
      ],
      "metadata": {
        "id": "-VtXSaExSKgo"
      }
    },
    {
      "cell_type": "markdown",
      "source": [
        "## 2.4 - Selecao do Modelo"
      ],
      "metadata": {
        "id": "XL9V5JQiPSMm"
      }
    },
    {
      "cell_type": "markdown",
      "source": [
        "## 2.5 - Treinamento do Modelo"
      ],
      "metadata": {
        "id": "YaD4ipYGPaf0"
      }
    },
    {
      "cell_type": "markdown",
      "source": [
        "## 2.6 - Predicao do Modelo"
      ],
      "metadata": {
        "id": "OE4pLqBzPvO4"
      }
    },
    {
      "cell_type": "markdown",
      "source": [
        "## 2.5 - Insights"
      ],
      "metadata": {
        "id": "xY1SxJTLPyQ4"
      }
    },
    {
      "cell_type": "code",
      "source": [],
      "metadata": {
        "id": "rukpqPtdPBzQ"
      },
      "execution_count": 2,
      "outputs": []
    },
    {
      "cell_type": "markdown",
      "source": [
        "# 3 - Qual chance de estar errado?"
      ],
      "metadata": {
        "id": "vMWYyuCEO6sV"
      }
    },
    {
      "cell_type": "code",
      "source": [],
      "metadata": {
        "id": "tPlff0dDPCJ8"
      },
      "execution_count": null,
      "outputs": []
    }
  ]
}